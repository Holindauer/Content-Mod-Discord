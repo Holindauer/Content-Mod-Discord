{
 "cells": [
  {
   "cell_type": "markdown",
   "metadata": {},
   "source": [
    "## Data Cleaning of Code Interpreter Labeled Summarizartion Superset of Wikipedia Toxic Comments Dataset\n",
    "\n",
    "I used code interpreter to take the wikipedia toxic comments dataset and label the raw text data\n",
    "with brief summaries of why the innappropriate comments of the dataset are innapropriate. There is\n",
    "a text file in this directory (code_interpreter_data_prep.txt) which contains the prompts I used to perform this task. One issue of\n",
    "the resultant dataset is that code interpreter was not able to fully remove the non innapropriate\n",
    "comments (which was one of the things I asked it to do). So in this notebook I am going to use the \n",
    "rule adherance classifier I trained previously to filter out only the innapropriate comments for \n",
    "use in the summary model."
   ]
  },
  {
   "cell_type": "code",
   "execution_count": 4,
   "metadata": {},
   "outputs": [
    {
     "data": {
      "text/html": [
       "<div>\n",
       "<style scoped>\n",
       "    .dataframe tbody tr th:only-of-type {\n",
       "        vertical-align: middle;\n",
       "    }\n",
       "\n",
       "    .dataframe tbody tr th {\n",
       "        vertical-align: top;\n",
       "    }\n",
       "\n",
       "    .dataframe thead th {\n",
       "        text-align: right;\n",
       "    }\n",
       "</style>\n",
       "<table border=\"1\" class=\"dataframe\">\n",
       "  <thead>\n",
       "    <tr style=\"text-align: right;\">\n",
       "      <th></th>\n",
       "      <th>text</th>\n",
       "      <th>reason</th>\n",
       "    </tr>\n",
       "  </thead>\n",
       "  <tbody>\n",
       "    <tr>\n",
       "      <th>0</th>\n",
       "      <td>COCKSUCKER BEFORE YOU PISS AROUND ON MY WORK</td>\n",
       "      <td>contains derogatory swear words</td>\n",
       "    </tr>\n",
       "    <tr>\n",
       "      <th>1</th>\n",
       "      <td>Hey... what is it..\\n@ | talk .\\nWhat is it......</td>\n",
       "      <td>contains inappropriate language or context</td>\n",
       "    </tr>\n",
       "    <tr>\n",
       "      <th>2</th>\n",
       "      <td>Bye! \\n\\nDon't look, come or think of comming ...</td>\n",
       "      <td>contains inappropriate language or context</td>\n",
       "    </tr>\n",
       "    <tr>\n",
       "      <th>3</th>\n",
       "      <td>You are gay or antisemmitian? \\n\\nArchangel WH...</td>\n",
       "      <td>contains potentially offensive group references</td>\n",
       "    </tr>\n",
       "    <tr>\n",
       "      <th>4</th>\n",
       "      <td>FUCK YOUR FILTHY MOTHER IN THE ASS, DRY!</td>\n",
       "      <td>contains derogatory swear words</td>\n",
       "    </tr>\n",
       "  </tbody>\n",
       "</table>\n",
       "</div>"
      ],
      "text/plain": [
       "                                                text   \n",
       "0       COCKSUCKER BEFORE YOU PISS AROUND ON MY WORK  \\\n",
       "1  Hey... what is it..\\n@ | talk .\\nWhat is it......   \n",
       "2  Bye! \\n\\nDon't look, come or think of comming ...   \n",
       "3  You are gay or antisemmitian? \\n\\nArchangel WH...   \n",
       "4           FUCK YOUR FILTHY MOTHER IN THE ASS, DRY!   \n",
       "\n",
       "                                            reason  \n",
       "0                  contains derogatory swear words  \n",
       "1       contains inappropriate language or context  \n",
       "2       contains inappropriate language or context  \n",
       "3  contains potentially offensive group references  \n",
       "4                  contains derogatory swear words  "
      ]
     },
     "execution_count": 4,
     "metadata": {},
     "output_type": "execute_result"
    }
   ],
   "source": [
    "import pandas as pd\n",
    "\n",
    "#load csv\n",
    "summary_data = pd.read_csv('C:\\\\Users\\\\hunte\\\\OneDrive\\\\Documents\\\\Coding Projects\\\\Bot_Discord_Proj\\\\clean_summary_model\\\\summarization_data_prep\\\\code_interpreter_summarization_dataset.csv')\n",
    "summary_data.head()\n"
   ]
  },
  {
   "cell_type": "code",
   "execution_count": 5,
   "metadata": {},
   "outputs": [
    {
     "data": {
      "text/plain": [
       "16205"
      ]
     },
     "execution_count": 5,
     "metadata": {},
     "output_type": "execute_result"
    }
   ],
   "source": [
    "len(summary_data)"
   ]
  },
  {
   "cell_type": "markdown",
   "metadata": {},
   "source": [
    "## Using RAC to Clean Data\n",
    "I am going to load in the rule adherance classifier from run_local_RAC.py which contains a class that will use the RAC model trained for inference of whether strings are appropriate or innapropriate on the local machine."
   ]
  },
  {
   "cell_type": "code",
   "execution_count": 6,
   "metadata": {},
   "outputs": [
    {
     "name": "stdout",
     "output_type": "stream",
     "text": [
      "['bot.py', 'run_local_RAC.py', 'tester', '__pycache__']\n"
     ]
    }
   ],
   "source": [
    "import os \n",
    "\n",
    "os.chdir(\"C:\\\\Users\\\\hunte\\\\OneDrive\\\\Documents\\\\Coding Projects\\\\Bot_Discord_Proj\\\\Content-Mod-DiscordBot\\\\bots\")\n",
    "print(os.listdir())"
   ]
  },
  {
   "cell_type": "markdown",
   "metadata": {},
   "source": [
    "Instantiating the Rule Adherance Classifier"
   ]
  },
  {
   "cell_type": "code",
   "execution_count": 7,
   "metadata": {},
   "outputs": [],
   "source": [
    "from run_local_RAC import RAC\n",
    "\n",
    "local_RAC = RAC()"
   ]
  },
  {
   "cell_type": "markdown",
   "metadata": {},
   "source": [
    "Looks to be working"
   ]
  },
  {
   "cell_type": "code",
   "execution_count": 8,
   "metadata": {},
   "outputs": [
    {
     "name": "stdout",
     "output_type": "stream",
     "text": [
      "For the sentence 'That is so dumb and stupid you suck!', the model predicts inappropriate.\n",
      "For the sentence 'I don't agree with you.', the model predicts appropriate.\n"
     ]
    }
   ],
   "source": [
    "inappropriate = \"That is so dumb and stupid you suck!\"\n",
    "\n",
    "appropriate = \"I don't agree with you.\"\n",
    "\n",
    "inappropriate_pred, appropriate_pred = local_RAC.run(inappropriate), local_RAC.run(appropriate)\n",
    "\n",
    "for pred in [ [inappropriate, inappropriate_pred], [appropriate, appropriate_pred] ]:\n",
    "    prediction = \"inappropriate\" if pred[1] == 1 else \"appropriate\"\n",
    "    print(f\"For the sentence '{pred[0]}', the model predicts {prediction}.\")\n"
   ]
  },
  {
   "cell_type": "markdown",
   "metadata": {},
   "source": [
    "Here I am mapping the local_RAC.run() method to the listed summary_data[\"text\"] column of the df."
   ]
  },
  {
   "cell_type": "code",
   "execution_count": null,
   "metadata": {},
   "outputs": [],
   "source": [
    "inference_map = map(local_RAC.run, list(summary_data[\"text\"])) \n",
    "inference_list = list(inference_map)"
   ]
  },
  {
   "cell_type": "markdown",
   "metadata": {},
   "source": [
    "Below I convert the list of inferences on the the raw text data to a pandas boolean series. Then I use this series to filter out only those inappropriate comments."
   ]
  },
  {
   "cell_type": "code",
   "execution_count": 11,
   "metadata": {},
   "outputs": [],
   "source": [
    "bool_series = pd.Series(inference_list).astype(bool)\n",
    "cleaned_summary_data = summary_data[bool_series].reset_index(drop=True)"
   ]
  },
  {
   "cell_type": "code",
   "execution_count": 12,
   "metadata": {},
   "outputs": [
    {
     "name": "stdout",
     "output_type": "stream",
     "text": [
      "2463 rows removed\n"
     ]
    }
   ],
   "source": [
    "num_removed = len(summary_data) - len(cleaned_summary_data)\n",
    "print(f'{num_removed} rows removed')"
   ]
  },
  {
   "cell_type": "code",
   "execution_count": 13,
   "metadata": {},
   "outputs": [
    {
     "data": {
      "text/html": [
       "<div>\n",
       "<style scoped>\n",
       "    .dataframe tbody tr th:only-of-type {\n",
       "        vertical-align: middle;\n",
       "    }\n",
       "\n",
       "    .dataframe tbody tr th {\n",
       "        vertical-align: top;\n",
       "    }\n",
       "\n",
       "    .dataframe thead th {\n",
       "        text-align: right;\n",
       "    }\n",
       "</style>\n",
       "<table border=\"1\" class=\"dataframe\">\n",
       "  <thead>\n",
       "    <tr style=\"text-align: right;\">\n",
       "      <th></th>\n",
       "      <th>text</th>\n",
       "      <th>reason</th>\n",
       "    </tr>\n",
       "  </thead>\n",
       "  <tbody>\n",
       "    <tr>\n",
       "      <th>0</th>\n",
       "      <td>COCKSUCKER BEFORE YOU PISS AROUND ON MY WORK</td>\n",
       "      <td>contains derogatory swear words</td>\n",
       "    </tr>\n",
       "    <tr>\n",
       "      <th>1</th>\n",
       "      <td>You are gay or antisemmitian? \\n\\nArchangel WH...</td>\n",
       "      <td>contains potentially offensive group references</td>\n",
       "    </tr>\n",
       "    <tr>\n",
       "      <th>2</th>\n",
       "      <td>FUCK YOUR FILTHY MOTHER IN THE ASS, DRY!</td>\n",
       "      <td>contains derogatory swear words</td>\n",
       "    </tr>\n",
       "    <tr>\n",
       "      <th>3</th>\n",
       "      <td>GET FUCKED UP. GET FUCKEEED UP.  GOT A DRINK T...</td>\n",
       "      <td>contains derogatory swear words</td>\n",
       "    </tr>\n",
       "    <tr>\n",
       "      <th>4</th>\n",
       "      <td>Stupid peace of shit stop deleting my stuff as...</td>\n",
       "      <td>contains derogatory swear words, contains dero...</td>\n",
       "    </tr>\n",
       "  </tbody>\n",
       "</table>\n",
       "</div>"
      ],
      "text/plain": [
       "                                                text   \n",
       "0       COCKSUCKER BEFORE YOU PISS AROUND ON MY WORK  \\\n",
       "1  You are gay or antisemmitian? \\n\\nArchangel WH...   \n",
       "2           FUCK YOUR FILTHY MOTHER IN THE ASS, DRY!   \n",
       "3  GET FUCKED UP. GET FUCKEEED UP.  GOT A DRINK T...   \n",
       "4  Stupid peace of shit stop deleting my stuff as...   \n",
       "\n",
       "                                              reason  \n",
       "0                    contains derogatory swear words  \n",
       "1    contains potentially offensive group references  \n",
       "2                    contains derogatory swear words  \n",
       "3                    contains derogatory swear words  \n",
       "4  contains derogatory swear words, contains dero...  "
      ]
     },
     "execution_count": 13,
     "metadata": {},
     "output_type": "execute_result"
    }
   ],
   "source": [
    "cleaned_summary_data.head()\n"
   ]
  },
  {
   "cell_type": "code",
   "execution_count": 16,
   "metadata": {},
   "outputs": [],
   "source": [
    "#save csv\n",
    "cleaned_summary_data.to_csv('summary_dataset.csv', index=False)"
   ]
  }
 ],
 "metadata": {
  "kernelspec": {
   "display_name": "Python 3",
   "language": "python",
   "name": "python3"
  },
  "language_info": {
   "codemirror_mode": {
    "name": "ipython",
    "version": 3
   },
   "file_extension": ".py",
   "mimetype": "text/x-python",
   "name": "python",
   "nbconvert_exporter": "python",
   "pygments_lexer": "ipython3",
   "version": "3.11.1"
  },
  "orig_nbformat": 4
 },
 "nbformat": 4,
 "nbformat_minor": 2
}
