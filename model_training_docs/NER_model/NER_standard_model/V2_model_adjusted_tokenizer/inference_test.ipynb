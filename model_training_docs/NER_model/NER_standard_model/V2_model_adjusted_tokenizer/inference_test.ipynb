{
 "cells": [
  {
   "cell_type": "markdown",
   "metadata": {},
   "source": [
    "# V2 NER Fine Tuned Model Inference Test\n",
    "In this notebook I am going to evaluate the V2 NER model I fine tuned on the test set. The difference between this V2 and V1 is that V1 utilizes the base bert tokenizer and V2 utilizes a custom tokenizer that was trained on both the wiki and conll2003 sets.\n",
    "\n",
    "This is the same inference_test.ipynb notebook as for V1, but adjusted for the new tokenizer of V2.\n",
    "\n",
    "### V1 Result:    \n",
    "{'precision': 0.629440682682497,    \n",
    " 'recall': 0.6295574728639021,    \n",
    " 'f1': 0.6294990723562153,    \n",
    " 'accuracy': 0.9027749326357921}  \n",
    "\n",
    "### V2 Results:\n",
    " {'precision': 0.629533438456544,  \n",
    " 'recall': 0.6296502458484089,  \n",
    " 'f1': 0.6295918367346939,  \n",
    " 'accuracy': 0.9027749326357921}    \n",
    " \n",
    "\n",
    "\n",
    "The new model with adjusted tokenizer achieved nearly the exact same results. This is good."
   ]
  },
  {
   "cell_type": "markdown",
   "metadata": {},
   "source": [
    "## Load Fine Tuned Model and Custom Tokenizer"
   ]
  },
  {
   "cell_type": "code",
   "execution_count": 9,
   "metadata": {},
   "outputs": [],
   "source": [
    "from transformers import AutoModelForTokenClassification, BertTokenizer\n",
    "import os\n",
    "\n",
    "base_path = r\"C:\\Users\\hunte\\OneDrive\\Documents\\Coding Projects\\Bot_Discord_Proj\\NER_model\\V2_NER_model\"\n",
    "model_path, tokenizer_path = [os.path.join(base_path, m) for m in [\"model\", \"tokenizer\"]]\n",
    "\n",
    "\n",
    "#there are 9 labels for the token classification task because there are 9 ner-tags\n",
    "model = AutoModelForTokenClassification.from_pretrained(model_path, num_labels=9) \n",
    "tokenizer = BertTokenizer.from_pretrained(tokenizer_path, do_lower_case=True) #custom tokenizer"
   ]
  },
  {
   "cell_type": "markdown",
   "metadata": {},
   "source": [
    "## Load Pre-Tokenized Dataset From Disk"
   ]
  },
  {
   "cell_type": "code",
   "execution_count": 10,
   "metadata": {},
   "outputs": [],
   "source": [
    "import datasets\n",
    "\n",
    "base_path = \"C:\\\\Users\\\\hunte\\\\OneDrive\\\\Documents\\\\Coding Projects\\\\Bot_Discord_Proj\\\\NER_model\\\\NER_model\\\\NER_standard_model\"\n",
    "\n",
    "test_set_path = os.path.join(base_path, \"test_set_tokenized\")\n",
    "\n",
    "#load from disk the datasets Dataset object\n",
    "test_set = datasets.load_from_disk(test_set_path)"
   ]
  },
  {
   "cell_type": "markdown",
   "metadata": {},
   "source": [
    "## Prepare Data for Inference"
   ]
  },
  {
   "cell_type": "markdown",
   "metadata": {},
   "source": [
    "Here we are running a forward pass by first extracting the input_ids and attention_mask from the dataset while converting to tensor. These tensors are then passed into the model to which outputs the logits."
   ]
  },
  {
   "cell_type": "code",
   "execution_count": 11,
   "metadata": {},
   "outputs": [
    {
     "data": {
      "text/plain": [
       "Dataset({\n",
       "    features: ['id', 'tokens', 'pos_tags', 'chunk_tags', 'ner_tags', 'input_ids', 'token_type_ids', 'attention_mask', 'labels'],\n",
       "    num_rows: 3453\n",
       "})"
      ]
     },
     "execution_count": 11,
     "metadata": {},
     "output_type": "execute_result"
    }
   ],
   "source": [
    "test_set"
   ]
  },
  {
   "cell_type": "markdown",
   "metadata": {},
   "source": [
    "Below I am pulling out the attention mask and input ids from the test set. attention_mask and input_ids are lists of tensors. Then I am converting them to a list of dicts of which I can pass into the data_collator. After collated, the dataset into a torch TorchDataset and then wrapping in a DataLoader for inference on the entire test set."
   ]
  },
  {
   "cell_type": "code",
   "execution_count": 12,
   "metadata": {},
   "outputs": [],
   "source": [
    "from transformers import DataCollatorForTokenClassification\n",
    "from torch.utils.data import DataLoader, TensorDataset\n",
    "import torch\n",
    "\n",
    "attention_mask, input_ids = test_set['attention_mask'], test_set['input_ids'] #list of tensors\n",
    "\n",
    "examples = [{\"attention_mask\": att_msk, \"input_ids\": ids} for att_msk, ids in zip(attention_mask, input_ids)] #convert them to lists of dicts \n",
    "\n",
    "data_collator = DataCollatorForTokenClassification(tokenizer) #create data collator with tokenizer\n",
    "batch = data_collator(examples) #collate the examples into a batch. This will unify the tensors sizes \\\n",
    "\n",
    "#which is necessary to wrap in a dataloader\n",
    "test_dataset = TensorDataset(batch['input_ids'], batch['attention_mask']) #create dataset from batch\n",
    "test_dataloader = DataLoader(test_dataset, batch_size=8) #create dataloader from dataset"
   ]
  },
  {
   "cell_type": "markdown",
   "metadata": {},
   "source": [
    "This function runs through that dataloader and computes the logits of each batch into a list which is concatenated into a single tensors and returned."
   ]
  },
  {
   "cell_type": "code",
   "execution_count": 13,
   "metadata": {},
   "outputs": [],
   "source": [
    "def compute_logits():\n",
    "    logit_preds = [] #list to store logit predictions\n",
    "\n",
    "    for input_ids, attention_mask in test_dataloader: \n",
    "        with torch.no_grad(): \n",
    "            output = model(input_ids=input_ids, attention_mask=attention_mask) #forward pass\n",
    "        logit_preds.append(output.logits) #append logits to list\n",
    "\n",
    "    return torch.concat(logit_preds, dim=0) #concatenate the list of tensors into a single tensor"
   ]
  },
  {
   "cell_type": "code",
   "execution_count": 14,
   "metadata": {},
   "outputs": [],
   "source": [
    "logits = compute_logits() #get logits"
   ]
  },
  {
   "cell_type": "code",
   "execution_count": 15,
   "metadata": {},
   "outputs": [
    {
     "data": {
      "text/plain": [
       "torch.Size([3453, 148, 9])"
      ]
     },
     "execution_count": 15,
     "metadata": {},
     "output_type": "execute_result"
    }
   ],
   "source": [
    "logits.shape #shape of logits"
   ]
  },
  {
   "cell_type": "markdown",
   "metadata": {},
   "source": [
    "## Compute Metric Function\n",
    "This function was used within the training process and will now be used to eval the model"
   ]
  },
  {
   "cell_type": "code",
   "execution_count": 16,
   "metadata": {},
   "outputs": [
    {
     "name": "stderr",
     "output_type": "stream",
     "text": [
      "C:\\Users\\hunte\\AppData\\Local\\Temp\\ipykernel_29488\\2157499080.py:4: FutureWarning: load_metric is deprecated and will be removed in the next major version of datasets. Use 'evaluate.load' instead, from the new library 🤗 Evaluate: https://huggingface.co/docs/evaluate\n",
      "  metric = datasets.load_metric(\"seqeval\") #load in seqeval metric\n"
     ]
    }
   ],
   "source": [
    "import numpy as np\n",
    "import seqeval\n",
    "\n",
    "metric = datasets.load_metric(\"seqeval\") #load in seqeval metric\n",
    "\n",
    "def compute_metrics(p): \n",
    "    '''\n",
    "        this function unpacks the predictions and labels from p. Then it applies argmax to the prediction logics which converts\n",
    "        them to indices within the labels_list. Then assigned to true_predictions is a list comprehension of those indices converted \n",
    "        to their label names. The true_labels list has this analogous operation performed on the label indices of the targets for \n",
    "        that example. Then the true_predictiosn and true_labels are evaluated for precision, recall, and f1 using the seqeval package.\n",
    "    '''\n",
    "    #NER labels specific to the conll2003 task\n",
    "    label_list = ['O', 'B-PER', 'I-PER', 'B-ORG', 'I-ORG', 'B-LOC', 'I-LOC', 'B-MISC', 'I-MISC'] \n",
    "        \n",
    "    #unpack predictions\n",
    "    predictions, labels = p \n",
    "        \n",
    "    #get prediction indices for use in labels_list by argmaxing logits\n",
    "    predictions = np.argmax(predictions, axis=2) \n",
    "    \n",
    "    #prediction indicies ---> labels\n",
    "    true_predictions = [ \n",
    "        [label_list[pred] for (pred, lab) in zip(prediction, label) if lab != -100] for prediction, label in zip(predictions, labels) \n",
    "    ] \n",
    "    \n",
    "    #Ground truth indicies ---> labels\n",
    "    true_labels = [ \n",
    "        [label_list[lab] for (pred, lab) in zip(prediction, label) if lab != -100] for prediction, label in zip(predictions, labels) \n",
    "    ] \n",
    "    \n",
    "    #get score\n",
    "    results = metric.compute(predictions=true_predictions, references=true_labels) \n",
    "    \n",
    "    return { \n",
    "        \"precision\": results[\"overall_precision\"], \n",
    "        \"recall\": results[\"overall_recall\"], \n",
    "        \"f1\": results[\"overall_f1\"], \n",
    "        \"accuracy\": results[\"overall_accuracy\"], \n",
    "    } "
   ]
  },
  {
   "cell_type": "code",
   "execution_count": 17,
   "metadata": {},
   "outputs": [
    {
     "data": {
      "text/plain": [
       "{'precision': 0.629533438456544,\n",
       " 'recall': 0.6296502458484089,\n",
       " 'f1': 0.6295918367346939,\n",
       " 'accuracy': 0.9027749326357921}"
      ]
     },
     "execution_count": 17,
     "metadata": {},
     "output_type": "execute_result"
    }
   ],
   "source": [
    "logits_np = logits.numpy() #convert logits to numpy array\n",
    "\n",
    "p = [logits_np, test_set['labels']] #create tuple of predictions and labels\n",
    "result = compute_metrics(p) #compute metrics\n",
    "\n",
    "result #output results"
   ]
  }
 ],
 "metadata": {
  "kernelspec": {
   "display_name": "Python 3",
   "language": "python",
   "name": "python3"
  },
  "language_info": {
   "codemirror_mode": {
    "name": "ipython",
    "version": 3
   },
   "file_extension": ".py",
   "mimetype": "text/x-python",
   "name": "python",
   "nbconvert_exporter": "python",
   "pygments_lexer": "ipython3",
   "version": "3.11.1"
  },
  "orig_nbformat": 4
 },
 "nbformat": 4,
 "nbformat_minor": 2
}
